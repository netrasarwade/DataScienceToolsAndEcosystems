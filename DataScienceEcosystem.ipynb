{
 "cells": [
  {
   "cell_type": "markdown",
   "id": "a05d847e-ea1b-42d1-b7f8-fee916a9fdfd",
   "metadata": {},
   "source": [
    "# Data Science Tools and Ecosystem"
   ]
  },
  {
   "cell_type": "markdown",
   "id": "fd113594-9abf-49ee-9682-b92283a95bab",
   "metadata": {},
   "source": [
    "In this notebook, Data Science Tools and Ecosystem are summarized."
   ]
  },
  {
   "cell_type": "markdown",
   "id": "03d36323-4614-4a4a-863f-bbb5aefa38b2",
   "metadata": {},
   "source": [
    "**Objectives:**\n",
    "* List Popular languages that data scientists use\n",
    "* List common libraries data scientists use\n",
    "* Display arithemetic expressions used in jupyter\n",
    "* Create an expression that converts minutes to hours"
   ]
  },
  {
   "cell_type": "markdown",
   "id": "3b82ea50-6a98-49e9-b669-ec2adf41a82d",
   "metadata": {},
   "source": [
    "Some of the popular languages that Data Scientists use are:\n",
    "1. Python\n",
    "2. R\n",
    "3. SQL"
   ]
  },
  {
   "cell_type": "markdown",
   "id": "ed545842-2787-45bd-86be-42de95a23285",
   "metadata": {},
   "source": [
    "Some of the commonly used libraries used by Data Scientists include:\n",
    "1. caret\n",
    "2. numpy\n",
    "3. matplotlib\n",
    "4. pandas"
   ]
  },
  {
   "cell_type": "markdown",
   "id": "919dd6d9-0c99-4a33-843d-e8e27c92b11f",
   "metadata": {},
   "source": [
    "\n",
    "|Data Science Tools|\n",
    "|------------------|\n",
    "|Jupyter|\n",
    "|RStudio|\n",
    "|GitHub|\n"
   ]
  },
  {
   "cell_type": "markdown",
   "id": "b976da99-8a65-41c3-a9a3-4ff8d0c48b41",
   "metadata": {},
   "source": [
    "### Below are a few examples of evaluating arithmetic expressions in Python\n",
    "- **Subtraction:** `5 - 2`\n",
    "- **Multiplication:** `4 * 3`\n",
    "- **Division:** `10 / 2`\n",
    "- **Exponentiation:** `3 ** 2`\n",
    "- **Modulo (Remainder):** `10 % 3`"
   ]
  },
  {
   "cell_type": "code",
   "execution_count": 7,
   "id": "92b28725-28df-4004-9fb3-e82cc6613b72",
   "metadata": {},
   "outputs": [
    {
     "data": {
      "text/plain": [
       "3.3333333333333335"
      ]
     },
     "execution_count": 7,
     "metadata": {},
     "output_type": "execute_result"
    }
   ],
   "source": [
    "#This will convert 200 minutes to hours by diving by 60\n",
    "x = 200\n",
    "y = x/60\n",
    "y"
   ]
  },
  {
   "cell_type": "code",
   "execution_count": 8,
   "id": "144150bf-ba23-4b61-99cb-ba697184e556",
   "metadata": {},
   "outputs": [
    {
     "data": {
      "text/plain": [
       "17"
      ]
     },
     "execution_count": 8,
     "metadata": {},
     "output_type": "execute_result"
    }
   ],
   "source": [
    "#This a simple arithmetic expression to mutiply then add integers\n",
    "(3*4)+5"
   ]
  },
  {
   "cell_type": "markdown",
   "id": "11167f17-3038-4f0f-9c8a-2fb28238665d",
   "metadata": {},
   "source": [
    "## Author\n",
    "\n",
    "Netra Sarwade\n"
   ]
  },
  {
   "cell_type": "code",
   "execution_count": null,
   "id": "66189111-d845-4598-98cf-429b07e1636d",
   "metadata": {},
   "outputs": [],
   "source": []
  }
 ],
 "metadata": {
  "kernelspec": {
   "display_name": "Python 3 (ipykernel)",
   "language": "python",
   "name": "python3"
  },
  "language_info": {
   "codemirror_mode": {
    "name": "ipython",
    "version": 3
   },
   "file_extension": ".py",
   "mimetype": "text/x-python",
   "name": "python",
   "nbconvert_exporter": "python",
   "pygments_lexer": "ipython3",
   "version": "3.11.9"
  }
 },
 "nbformat": 4,
 "nbformat_minor": 5
}
